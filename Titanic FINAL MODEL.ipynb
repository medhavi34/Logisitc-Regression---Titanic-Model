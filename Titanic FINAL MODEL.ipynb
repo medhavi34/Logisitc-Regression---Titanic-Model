{
 "cells": [
  {
   "cell_type": "code",
   "execution_count": 1,
   "metadata": {},
   "outputs": [],
   "source": [
    "import pandas as pd\n",
    "import numpy as np\n",
    "from sklearn.pipeline import Pipeline\n",
    "from sklearn.preprocessing import StandardScaler, MinMaxScaler\n",
    "from sklearn.impute import SimpleImputer\n",
    "from sklearn.base import BaseEstimator, TransformerMixin\n",
    "from sklearn.model_selection import train_test_split \n",
    "from sklearn.preprocessing import OneHotEncoder, LabelEncoder\n",
    "from sklearn.compose import ColumnTransformer\n",
    "from sklearn.metrics import classification_report, f1_score, precision_score, recall_score\n",
    "from sklearn.model_selection import cross_val_predict,cross_val_score"
   ]
  },
  {
   "cell_type": "code",
   "execution_count": 2,
   "metadata": {},
   "outputs": [],
   "source": [
    "df = pd.read_csv(r'C:\\Users\\Lenovo\\Desktop\\34\\Kaggle\\Titanic\\train.csv')\n",
    "df_test = pd.read_csv(r'C:\\Users\\Lenovo\\Desktop\\34\\Kaggle\\Titanic\\test.csv')\n",
    "passId = df_test[\"PassengerId\"]"
   ]
  },
  {
   "cell_type": "code",
   "execution_count": 3,
   "metadata": {},
   "outputs": [
    {
     "data": {
      "text/html": [
       "<div>\n",
       "<style scoped>\n",
       "    .dataframe tbody tr th:only-of-type {\n",
       "        vertical-align: middle;\n",
       "    }\n",
       "\n",
       "    .dataframe tbody tr th {\n",
       "        vertical-align: top;\n",
       "    }\n",
       "\n",
       "    .dataframe thead th {\n",
       "        text-align: right;\n",
       "    }\n",
       "</style>\n",
       "<table border=\"1\" class=\"dataframe\">\n",
       "  <thead>\n",
       "    <tr style=\"text-align: right;\">\n",
       "      <th></th>\n",
       "      <th>PassengerId</th>\n",
       "      <th>Survived</th>\n",
       "      <th>Pclass</th>\n",
       "      <th>Name</th>\n",
       "      <th>Sex</th>\n",
       "      <th>Age</th>\n",
       "      <th>SibSp</th>\n",
       "      <th>Parch</th>\n",
       "      <th>Ticket</th>\n",
       "      <th>Fare</th>\n",
       "      <th>Cabin</th>\n",
       "      <th>Embarked</th>\n",
       "    </tr>\n",
       "  </thead>\n",
       "  <tbody>\n",
       "    <tr>\n",
       "      <th>0</th>\n",
       "      <td>1</td>\n",
       "      <td>0</td>\n",
       "      <td>3</td>\n",
       "      <td>Braund, Mr. Owen Harris</td>\n",
       "      <td>male</td>\n",
       "      <td>22.0</td>\n",
       "      <td>1</td>\n",
       "      <td>0</td>\n",
       "      <td>A/5 21171</td>\n",
       "      <td>7.2500</td>\n",
       "      <td>NaN</td>\n",
       "      <td>S</td>\n",
       "    </tr>\n",
       "    <tr>\n",
       "      <th>1</th>\n",
       "      <td>2</td>\n",
       "      <td>1</td>\n",
       "      <td>1</td>\n",
       "      <td>Cumings, Mrs. John Bradley (Florence Briggs Th...</td>\n",
       "      <td>female</td>\n",
       "      <td>38.0</td>\n",
       "      <td>1</td>\n",
       "      <td>0</td>\n",
       "      <td>PC 17599</td>\n",
       "      <td>71.2833</td>\n",
       "      <td>C85</td>\n",
       "      <td>C</td>\n",
       "    </tr>\n",
       "    <tr>\n",
       "      <th>2</th>\n",
       "      <td>3</td>\n",
       "      <td>1</td>\n",
       "      <td>3</td>\n",
       "      <td>Heikkinen, Miss. Laina</td>\n",
       "      <td>female</td>\n",
       "      <td>26.0</td>\n",
       "      <td>0</td>\n",
       "      <td>0</td>\n",
       "      <td>STON/O2. 3101282</td>\n",
       "      <td>7.9250</td>\n",
       "      <td>NaN</td>\n",
       "      <td>S</td>\n",
       "    </tr>\n",
       "    <tr>\n",
       "      <th>3</th>\n",
       "      <td>4</td>\n",
       "      <td>1</td>\n",
       "      <td>1</td>\n",
       "      <td>Futrelle, Mrs. Jacques Heath (Lily May Peel)</td>\n",
       "      <td>female</td>\n",
       "      <td>35.0</td>\n",
       "      <td>1</td>\n",
       "      <td>0</td>\n",
       "      <td>113803</td>\n",
       "      <td>53.1000</td>\n",
       "      <td>C123</td>\n",
       "      <td>S</td>\n",
       "    </tr>\n",
       "    <tr>\n",
       "      <th>4</th>\n",
       "      <td>5</td>\n",
       "      <td>0</td>\n",
       "      <td>3</td>\n",
       "      <td>Allen, Mr. William Henry</td>\n",
       "      <td>male</td>\n",
       "      <td>35.0</td>\n",
       "      <td>0</td>\n",
       "      <td>0</td>\n",
       "      <td>373450</td>\n",
       "      <td>8.0500</td>\n",
       "      <td>NaN</td>\n",
       "      <td>S</td>\n",
       "    </tr>\n",
       "  </tbody>\n",
       "</table>\n",
       "</div>"
      ],
      "text/plain": [
       "   PassengerId  Survived  Pclass  \\\n",
       "0            1         0       3   \n",
       "1            2         1       1   \n",
       "2            3         1       3   \n",
       "3            4         1       1   \n",
       "4            5         0       3   \n",
       "\n",
       "                                                Name     Sex   Age  SibSp  \\\n",
       "0                            Braund, Mr. Owen Harris    male  22.0      1   \n",
       "1  Cumings, Mrs. John Bradley (Florence Briggs Th...  female  38.0      1   \n",
       "2                             Heikkinen, Miss. Laina  female  26.0      0   \n",
       "3       Futrelle, Mrs. Jacques Heath (Lily May Peel)  female  35.0      1   \n",
       "4                           Allen, Mr. William Henry    male  35.0      0   \n",
       "\n",
       "   Parch            Ticket     Fare Cabin Embarked  \n",
       "0      0         A/5 21171   7.2500   NaN        S  \n",
       "1      0          PC 17599  71.2833   C85        C  \n",
       "2      0  STON/O2. 3101282   7.9250   NaN        S  \n",
       "3      0            113803  53.1000  C123        S  \n",
       "4      0            373450   8.0500   NaN        S  "
      ]
     },
     "execution_count": 3,
     "metadata": {},
     "output_type": "execute_result"
    }
   ],
   "source": [
    "df.head()"
   ]
  },
  {
   "cell_type": "code",
   "execution_count": 4,
   "metadata": {},
   "outputs": [],
   "source": [
    "# How to fill age class based on prefix \n",
    "def prefix(df):\n",
    "    tempNew = df[\"Name\"].str.split('.', expand = True)[0]\n",
    "    df[\"addPrefix\"] = (tempNew.str.split(',', expand = True)[1])\n",
    "    df[\"addPrefix\"].replace({\"Ms\":\"Miss\"}, regex = True, inplace = True)\n",
    "    return df"
   ]
  },
  {
   "cell_type": "code",
   "execution_count": 5,
   "metadata": {},
   "outputs": [],
   "source": [
    "df = prefix(df)\n",
    "df_test = prefix(df_test)"
   ]
  },
  {
   "cell_type": "code",
   "execution_count": 6,
   "metadata": {},
   "outputs": [
    {
     "name": "stdout",
     "output_type": "stream",
     "text": [
      "<class 'pandas.core.frame.DataFrame'>\n",
      "RangeIndex: 891 entries, 0 to 890\n",
      "Data columns (total 13 columns):\n",
      " #   Column       Non-Null Count  Dtype  \n",
      "---  ------       --------------  -----  \n",
      " 0   PassengerId  891 non-null    int64  \n",
      " 1   Survived     891 non-null    int64  \n",
      " 2   Pclass       891 non-null    int64  \n",
      " 3   Name         891 non-null    object \n",
      " 4   Sex          891 non-null    object \n",
      " 5   Age          714 non-null    float64\n",
      " 6   SibSp        891 non-null    int64  \n",
      " 7   Parch        891 non-null    int64  \n",
      " 8   Ticket       891 non-null    object \n",
      " 9   Fare         891 non-null    float64\n",
      " 10  Cabin        204 non-null    object \n",
      " 11  Embarked     889 non-null    object \n",
      " 12  addPrefix    891 non-null    object \n",
      "dtypes: float64(2), int64(5), object(6)\n",
      "memory usage: 90.6+ KB\n"
     ]
    }
   ],
   "source": [
    "df.info()"
   ]
  },
  {
   "cell_type": "code",
   "execution_count": 7,
   "metadata": {},
   "outputs": [],
   "source": [
    "df[\"Cabin\"].fillna(\"N\", inplace= True)\n",
    "df_test[\"Cabin\"].fillna(\"N\", inplace= True)"
   ]
  },
  {
   "cell_type": "code",
   "execution_count": 8,
   "metadata": {},
   "outputs": [],
   "source": [
    "class FillAgeNaN(BaseEstimator, TransformerMixin):\n",
    "    def fit(self,X, y = None):\n",
    "        return self\n",
    "    def transform(self,X, y = None):\n",
    "        X[\"Age\"] = X.groupby(\"addPrefix\")[\"Age\"].transform(lambda x: x.fillna(x.mean()))\n",
    "        return X.drop([\"addPrefix\"], axis = 1)"
   ]
  },
  {
   "cell_type": "code",
   "execution_count": 9,
   "metadata": {},
   "outputs": [],
   "source": [
    "age_ix,fare_ix,sex_ix,parch_ix,sibsp_ix = 0, 1, 2, 3, 4\n",
    "class CombinedAttributesAdderNUMS(BaseEstimator, TransformerMixin):\n",
    "    def __init__ (self, addAgeModify = True, addFareModify = True, addFarePerPerson = True, addFareAge = True):\n",
    "        self.addAgeModify = addAgeModify\n",
    "        self.addFareModify = addFareModify\n",
    "        self.addFarePerPerson = addFarePerPerson\n",
    "        self.addFareAge = addFareAge\n",
    "    def fit(self, X, y=None):\n",
    "        return self\n",
    "    def transform(self, X, y = None):\n",
    "        X_new = X      \n",
    "        if self.addAgeModify:\n",
    "            addAgeModify = X[:, age_ix] // 5 * 5\n",
    "            X_new= np.c_[X_new,addAgeModify]\n",
    "        if self.addFareModify:\n",
    "            addFareModify = X[:, fare_ix] // 25 * 5\n",
    "            X_new= np.c_[X_new, addFareModify]\n",
    "        if self.addFarePerPerson:\n",
    "            addFarePerPerson = (X[:, fare_ix]/(X[:, parch_ix]+X[:, sibsp_ix]+1))//25*5\n",
    "            X_new= np.c_[X_new, addFarePerPerson]\n",
    "        if self.addFareAge:\n",
    "            addFareAge = (X[:,fare_ix]*X[:, age_ix])//1500*6\n",
    "            X_new= np.c_[X_new, addFareAge]\n",
    "        return X_new"
   ]
  },
  {
   "cell_type": "code",
   "execution_count": 10,
   "metadata": {},
   "outputs": [],
   "source": [
    "class DropAttributesNums(BaseEstimator, TransformerMixin):\n",
    "        def fit(self, X, y = None):\n",
    "            return self\n",
    "        def transform(self, X, y= None):\n",
    "            return X[:, 4:]"
   ]
  },
  {
   "cell_type": "code",
   "execution_count": 24,
   "metadata": {},
   "outputs": [],
   "source": [
    "name_ix, cabin_ix = 0,1\n",
    "class CombinedAttributesAdderSTR(BaseEstimator, TransformerMixin):\n",
    "    def __init__(self, addPrefix = True, addCabinSpace = True, addPrefixCabin=True, addRelativesModify = True):\n",
    "        self.addPrefix = addPrefix\n",
    "        self.addRelativesModify = addRelativesModify\n",
    "        self.addCabinSpace = addCabinSpace\n",
    "        self.addPrefixCabin = addPrefixCabin\n",
    "    def fit(self, X, y=None):\n",
    "        return self\n",
    "    def transform(self, X, y=None):\n",
    "        X_new = X.copy()\n",
    "        if self.addPrefix:\n",
    "            tempNew = X[\"Name\"].str.split('.', expand = True)[0]\n",
    "            X_new[\"addPrefix\"] = (tempNew.str.split(',', expand = True)[1])\n",
    "            X_new[\"addPrefix\"].replace({\"Ms\":\"Miss\"}, regex = True, inplace = True)\n",
    "        if self.addCabinSpace:\n",
    "            X_new[\"CabinSpace\"] = X[\"Cabin\"].astype(str).str[0]\n",
    "        if self.addRelativesModify:\n",
    "            addRelativesModify = X[\"SibSp\"]+ X[\"Parch\"]\n",
    "            addRelativesModify[addRelativesModify == 0] = 0\n",
    "            addRelativesModify[(addRelativesModify > 0 )& (addRelativesModify < 3)] = 1\n",
    "            addRelativesModify[addRelativesModify == 3] = 2\n",
    "            addRelativesModify[(addRelativesModify) > 3 & (addRelativesModify < 7)] = 3\n",
    "            addRelativesModify[addRelativesModify >= 7] = 4 \n",
    "            X_new= np.c_[X_new, addRelativesModify]\n",
    "\n",
    "            \n",
    "        return X_new"
   ]
  },
  {
   "cell_type": "code",
   "execution_count": 12,
   "metadata": {},
   "outputs": [],
   "source": [
    "class DropAttributesStr(BaseEstimator, TransformerMixin):\n",
    "        def fit(self, X, y = None):\n",
    "            return self\n",
    "        def transform(self, X, y= None):\n",
    "            return X[:, 2:]"
   ]
  },
  {
   "cell_type": "code",
   "execution_count": 13,
   "metadata": {},
   "outputs": [],
   "source": [
    "class FrequentImputer(BaseEstimator, TransformerMixin):\n",
    "    def fit(self, X, y=None):\n",
    "        self.most_frequent_ = pd.Series([X[c].value_counts().index[0] for c in X],\n",
    "                                        index=X.columns)\n",
    "        return self\n",
    "    def transform(self, X, y=None):\n",
    "        return X.fillna(self.most_frequent_)"
   ]
  },
  {
   "cell_type": "code",
   "execution_count": 14,
   "metadata": {},
   "outputs": [],
   "source": [
    "str_pipeline = Pipeline([\n",
    "    ('imputer', FrequentImputer()),\n",
    "    (\"attrb_adder\", CombinedAttributesAdderSTR(addPrefix = True, \n",
    "                                               addCabinSpace = True, \n",
    "                                               addRelativesModify = True)),\n",
    "    (\"atrrb_drop\", DropAttributesStr()),\n",
    "    (\"one_hot_encoder\", OneHotEncoder(handle_unknown='ignore', sparse=False))\n",
    "])"
   ]
  },
  {
   "cell_type": "code",
   "execution_count": 25,
   "metadata": {},
   "outputs": [],
   "source": [
    "num_pipeline = Pipeline([\n",
    "    ('fillAge',FillAgeNaN()),\n",
    "    ('imputer', SimpleImputer(strategy=\"median\")),\n",
    "    (\"attrb_adder\", CombinedAttributesAdderNUMS(addAgeModify = True, \n",
    "                                                addFareModify = False, \n",
    "                                                addFarePerPerson = False, \n",
    "                                                addFareAge = False)),\n",
    "    (\"atrrb_drop\", DropAttributesNums()),\n",
    "    (\"scale\", MinMaxScaler())\n",
    "    \n",
    "])"
   ]
  },
  {
   "cell_type": "code",
   "execution_count": 26,
   "metadata": {},
   "outputs": [],
   "source": [
    "df_nums = df[[\"Age\",\"Fare\",\"SibSp\",\"Parch\",\"addPrefix\"]]\n",
    "df_str = df[[\"Name\",\"Cabin\",\"Sex\",\"SibSp\",\"Parch\",\"Pclass\",\"Embarked\"]]\n",
    "\n",
    "full_pipeline = ColumnTransformer([\n",
    "    (\"str\", str_pipeline, list(df_str)),\n",
    "    (\"num\", num_pipeline, list(df_nums)),\n",
    "])"
   ]
  },
  {
   "cell_type": "code",
   "execution_count": 27,
   "metadata": {},
   "outputs": [],
   "source": [
    "X = full_pipeline.fit_transform(df.drop([\"Survived\"], axis = 1))\n",
    "Y = df[\"Survived\"]\n",
    "X_test_real = full_pipeline.transform(df_test)\n"
   ]
  },
  {
   "cell_type": "code",
   "execution_count": 28,
   "metadata": {},
   "outputs": [
    {
     "data": {
      "text/plain": [
       "((418, 50), (891, 50))"
      ]
     },
     "execution_count": 28,
     "metadata": {},
     "output_type": "execute_result"
    }
   ],
   "source": [
    "X_test_real.shape,X.shape"
   ]
  },
  {
   "cell_type": "code",
   "execution_count": 29,
   "metadata": {},
   "outputs": [],
   "source": [
    "X_train, X_test, Y_train, Y_test = train_test_split(X, Y, random_state=42, test_size = 0.2)"
   ]
  },
  {
   "cell_type": "code",
   "execution_count": 30,
   "metadata": {},
   "outputs": [],
   "source": [
    "def model_check(clf, X = X_train, Y=Y_train):\n",
    "    clf.fit(X, Y)\n",
    "    Y_pred = cross_val_predict(clf, X, Y, cv = 10)\n",
    "    print(classification_report(Y, Y_pred))\n",
    "    print(\"The accuracy score\", cross_val_score(clf, X,Y, cv = 10).mean())\n",
    "    print(\"F1 Score:\" , f1_score(Y, Y_pred))\n",
    "    print(\"The precision score\", precision_score(Y,Y_pred))\n",
    "    print(\"The recall score\", recall_score(Y,Y_pred))\n",
    "    return Y_pred,clf"
   ]
  },
  {
   "cell_type": "code",
   "execution_count": 31,
   "metadata": {},
   "outputs": [],
   "source": [
    "def model_pred(clf, X = X_test, Y=Y_test):\n",
    "    Y_pred = cross_val_predict(clf, X, Y, cv = 10)\n",
    "    print(classification_report(Y, Y_pred))\n",
    "    print(\"The accuracy score\", cross_val_score(clf, X,Y, cv = 10).mean())\n",
    "    print(\"F1 Score:\" , f1_score(Y, Y_pred))\n",
    "    print(\"The precision score\", precision_score(Y,Y_pred))\n",
    "    print(\"The recall score\", recall_score(Y,Y_pred))\n",
    "    return Y_pred,clf\n"
   ]
  },
  {
   "cell_type": "code",
   "execution_count": 32,
   "metadata": {},
   "outputs": [
    {
     "name": "stdout",
     "output_type": "stream",
     "text": [
      "              precision    recall  f1-score   support\n",
      "\n",
      "           0       0.84      0.87      0.86       444\n",
      "           1       0.78      0.72      0.75       268\n",
      "\n",
      "    accuracy                           0.82       712\n",
      "   macro avg       0.81      0.80      0.80       712\n",
      "weighted avg       0.82      0.82      0.82       712\n",
      "\n",
      "The accuracy score 0.8174295774647888\n",
      "F1 Score: 0.7490347490347491\n",
      "The precision score 0.776\n",
      "The recall score 0.7238805970149254\n",
      "              precision    recall  f1-score   support\n",
      "\n",
      "           0       0.84      0.81      0.83       105\n",
      "           1       0.74      0.78      0.76        74\n",
      "\n",
      "    accuracy                           0.80       179\n",
      "   macro avg       0.79      0.80      0.79       179\n",
      "weighted avg       0.80      0.80      0.80       179\n",
      "\n",
      "The accuracy score 0.7990196078431373\n",
      "F1 Score: 0.7631578947368421\n",
      "The precision score 0.7435897435897436\n",
      "The recall score 0.7837837837837838\n",
      "              precision    recall  f1-score   support\n",
      "\n",
      "           0       0.86      0.87      0.86       549\n",
      "           1       0.79      0.77      0.78       342\n",
      "\n",
      "    accuracy                           0.83       891\n",
      "   macro avg       0.82      0.82      0.82       891\n",
      "weighted avg       0.83      0.83      0.83       891\n",
      "\n",
      "The accuracy score 0.8328089887640449\n",
      "F1 Score: 0.780559646539028\n",
      "The precision score 0.7863501483679525\n",
      "The recall score 0.7748538011695907\n"
     ]
    }
   ],
   "source": [
    "#Logistic Regression \n",
    "from sklearn.linear_model import LogisticRegression\n",
    "clf_log = LogisticRegression()\n",
    "Y_pred, clf_log = model_check(clf_log)\n",
    "Y_pred_test = model_pred(clf_log)\n",
    "Y_pred_test = model_check(LogisticRegression(), X, Y)"
   ]
  },
  {
   "cell_type": "code",
   "execution_count": 34,
   "metadata": {},
   "outputs": [
    {
     "name": "stdout",
     "output_type": "stream",
     "text": [
      "              precision    recall  f1-score   support\n",
      "\n",
      "           0       0.82      0.87      0.84       444\n",
      "           1       0.76      0.68      0.71       268\n",
      "\n",
      "    accuracy                           0.80       712\n",
      "   macro avg       0.79      0.77      0.78       712\n",
      "weighted avg       0.79      0.80      0.79       712\n",
      "\n",
      "The accuracy score 0.7838615023474178\n",
      "F1 Score: 0.7140039447731756\n",
      "The precision score 0.7573221757322176\n",
      "The recall score 0.6753731343283582\n",
      "              precision    recall  f1-score   support\n",
      "\n",
      "           0       0.82      0.80      0.81       105\n",
      "           1       0.72      0.74      0.73        74\n",
      "\n",
      "    accuracy                           0.78       179\n",
      "   macro avg       0.77      0.77      0.77       179\n",
      "weighted avg       0.78      0.78      0.78       179\n",
      "\n",
      "The accuracy score 0.7549019607843137\n",
      "F1 Score: 0.7333333333333334\n",
      "The precision score 0.7236842105263158\n",
      "The recall score 0.7432432432432432\n",
      "              precision    recall  f1-score   support\n",
      "\n",
      "           0       0.81      0.87      0.84       549\n",
      "           1       0.76      0.68      0.72       342\n",
      "\n",
      "    accuracy                           0.80       891\n",
      "   macro avg       0.79      0.77      0.78       891\n",
      "weighted avg       0.79      0.80      0.79       891\n",
      "\n",
      "The accuracy score 0.7924469413233458\n",
      "F1 Score: 0.7200000000000001\n",
      "The precision score 0.7597402597402597\n",
      "The recall score 0.6842105263157895\n"
     ]
    }
   ],
   "source": [
    "from sklearn.neural_network import MLPClassifier\n",
    "clf_mlp = MLPClassifier(max_iter=10000, solver = 'lbfgs')\n",
    "Y_pred, clf_mlp = model_check(clf_mlp)\n",
    "Y_pred_test = model_pred(clf_mlp)\n",
    "Y_pred_test = model_check(clf_mlp, X, Y)"
   ]
  },
  {
   "cell_type": "code",
   "execution_count": 89,
   "metadata": {},
   "outputs": [],
   "source": [
    "clf = LogisticRegression()\n",
    "clf.fit(X,Y)\n",
    "Y_pred_test = clf.predict(X_test_real)"
   ]
  },
  {
   "cell_type": "code",
   "execution_count": 90,
   "metadata": {},
   "outputs": [
    {
     "data": {
      "text/html": [
       "<div>\n",
       "<style scoped>\n",
       "    .dataframe tbody tr th:only-of-type {\n",
       "        vertical-align: middle;\n",
       "    }\n",
       "\n",
       "    .dataframe tbody tr th {\n",
       "        vertical-align: top;\n",
       "    }\n",
       "\n",
       "    .dataframe thead th {\n",
       "        text-align: right;\n",
       "    }\n",
       "</style>\n",
       "<table border=\"1\" class=\"dataframe\">\n",
       "  <thead>\n",
       "    <tr style=\"text-align: right;\">\n",
       "      <th></th>\n",
       "      <th>PassengerId</th>\n",
       "      <th>Survived</th>\n",
       "    </tr>\n",
       "  </thead>\n",
       "  <tbody>\n",
       "    <tr>\n",
       "      <th>0</th>\n",
       "      <td>892</td>\n",
       "      <td>0</td>\n",
       "    </tr>\n",
       "    <tr>\n",
       "      <th>1</th>\n",
       "      <td>893</td>\n",
       "      <td>1</td>\n",
       "    </tr>\n",
       "    <tr>\n",
       "      <th>2</th>\n",
       "      <td>894</td>\n",
       "      <td>0</td>\n",
       "    </tr>\n",
       "    <tr>\n",
       "      <th>3</th>\n",
       "      <td>895</td>\n",
       "      <td>0</td>\n",
       "    </tr>\n",
       "    <tr>\n",
       "      <th>4</th>\n",
       "      <td>896</td>\n",
       "      <td>1</td>\n",
       "    </tr>\n",
       "  </tbody>\n",
       "</table>\n",
       "</div>"
      ],
      "text/plain": [
       "   PassengerId  Survived\n",
       "0          892         0\n",
       "1          893         1\n",
       "2          894         0\n",
       "3          895         0\n",
       "4          896         1"
      ]
     },
     "execution_count": 90,
     "metadata": {},
     "output_type": "execute_result"
    }
   ],
   "source": [
    "output = pd.DataFrame({'PassengerId': passId,'Survived': Y_pred_test})\n",
    "output.to_csv('submission.csv', index=False)\n",
    "output.head()"
   ]
  },
  {
   "cell_type": "code",
   "execution_count": null,
   "metadata": {},
   "outputs": [],
   "source": []
  }
 ],
 "metadata": {
  "kernelspec": {
   "display_name": "Python 3",
   "language": "python",
   "name": "python3"
  },
  "language_info": {
   "codemirror_mode": {
    "name": "ipython",
    "version": 3
   },
   "file_extension": ".py",
   "mimetype": "text/x-python",
   "name": "python",
   "nbconvert_exporter": "python",
   "pygments_lexer": "ipython3",
   "version": "3.7.3"
  }
 },
 "nbformat": 4,
 "nbformat_minor": 4
}
